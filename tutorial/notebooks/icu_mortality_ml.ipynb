{
 "cells": [
  {
   "attachments": {},
   "cell_type": "markdown",
   "metadata": {},
   "source": [
    "# ICU Mortality Prediction using Machine Learning\n",
    "## A Complete Tutorial with MIMIC-III Data and Random Forest Classification\n",
    "\n",
    "### 🎯 Learning Objectives\n",
    "By the end of this tutorial, you will be able to:\n",
    "1. **Load and explore** MIMIC-III clinical database\n",
    "2. **Engineer features** from electronic health records (EHR)\n",
    "3. **Build a Random Forest classifier** for mortality prediction\n",
    "4. **Evaluate model performance** using clinical metrics\n",
    "5. **Interpret feature importance** for healthcare insights\n",
    "\n",
    "### 📊 Dataset Overview\n",
    "- **MIMIC-III**: Medical Information Mart for Intensive Care III\n",
    "- **Source**: Beth Israel Deaconess Medical Center\n",
    "- **Content**: De-identified health data from ICU patients\n",
    "- **Goal**: Predict hospital mortality using patient characteristics\n",
    "\n",
    "### 🔬 Methodology\n",
    "- **Algorithm**: Random Forest (interpretable ensemble method)\n",
    "- **Features**: Demographics, admission details, ICU length of stay\n",
    "- **Evaluation**: AUC, confusion matrix, feature importance\n",
    "- **Clinical Focus**: Actionable insights for healthcare providers\n",
    "\n",
    "---"
   ]
  },
  {
   "attachments": {},
   "cell_type": "markdown",
   "metadata": {},
   "source": [
    "## 📚 Step 1: Import Required Libraries\n",
    "\n",
    "We'll import all the necessary libraries for our machine learning pipeline:\n",
    "- **Data manipulation**: pandas, numpy\n",
    "- **Visualization**: matplotlib, seaborn\n",
    "- **Machine Learning**: scikit-learn components\n",
    "- **Preprocessing**: StandardScaler, LabelEncoder, SimpleImputer"
   ]
  },
  {
   "cell_type": "code",
   "execution_count": 15,
   "metadata": {},
   "outputs": [
    {
     "name": "stdout",
     "output_type": "stream",
     "text": [
      "✅ All libraries imported successfully!\n",
      "📊 Ready to start the ICU mortality prediction tutorial\n"
     ]
    }
   ],
   "source": [
    "# Core data manipulation libraries\n",
    "import pandas as pd  # For data loading and manipulation\n",
    "import numpy as np   # For numerical operations\n",
    "\n",
    "# Visualization libraries\n",
    "import matplotlib.pyplot as plt  # Basic plotting\n",
    "import seaborn as sns           # Statistical visualizations\n",
    "\n",
    "# Machine Learning - Preprocessing\n",
    "from sklearn.preprocessing import StandardScaler, LabelEncoder  # Data preprocessing\n",
    "from sklearn.model_selection import train_test_split           # Data splitting\n",
    "from sklearn.impute import SimpleImputer                       # Handle missing values\n",
    "\n",
    "# Machine Learning - Model and Evaluation\n",
    "from sklearn.ensemble import RandomForestClassifier            # Our main algorithm\n",
    "from sklearn.metrics import (classification_report,           # Detailed performance metrics\n",
    "                           roc_auc_score,                     # Area Under Curve\n",
    "                           confusion_matrix,                  # Classification matrix\n",
    "                           roc_curve)                         # ROC curve data\n",
    "\n",
    "# Suppress warnings for cleaner output\n",
    "import warnings\n",
    "warnings.filterwarnings('ignore')\n",
    "\n",
    "# Set random seed for reproducibility\n",
    "np.random.seed(42)\n",
    "\n",
    "print(\"✅ All libraries imported successfully!\")\n",
    "print(\"📊 Ready to start the ICU mortality prediction tutorial\")"
   ]
  },
  {
   "attachments": {},
   "cell_type": "markdown",
   "metadata": {},
   "source": [
    "## 📂 Step 2: Load MIMIC-III Data\n",
    "\n",
    "### Understanding MIMIC-III Tables:\n",
    "- **PATIENTS.csv**: Patient demographics (gender, date of birth)\n",
    "- **ADMISSIONS.csv**: Hospital admission details (admission type, insurance, mortality)\n",
    "- **ICUSTAYS.csv**: ICU-specific information (length of stay, care units)\n",
    "\n",
    "### Key Learning Point:\n",
    "Always start by exploring your data structure - understanding column names and data types is crucial for healthcare ML projects."
   ]
  },
  {
   "cell_type": "code",
   "execution_count": 16,
   "metadata": {},
   "outputs": [
    {
     "name": "stdout",
     "output_type": "stream",
     "text": [
      "📥 Loading MIMIC-III data tables...\n",
      "\n",
      "📋 Exploring data structure:\n",
      "Column names in admissions:\n",
      "['row_id', 'subject_id', 'hadm_id', 'admittime', 'dischtime', 'deathtime', 'admission_type', 'admission_location', 'discharge_location', 'insurance', 'language', 'religion', 'marital_status', 'ethnicity', 'edregtime', 'edouttime', 'diagnosis', 'hospital_expire_flag', 'has_chartevents_data']\n",
      "\n",
      "Column names in patients:\n",
      "['row_id', 'subject_id', 'gender', 'dob', 'dod', 'dod_hosp', 'dod_ssn', 'expire_flag']\n",
      "\n",
      "Column names in icustays:\n",
      "['row_id', 'subject_id', 'hadm_id', 'icustay_id', 'dbsource', 'first_careunit', 'last_careunit', 'first_wardid', 'last_wardid', 'intime', 'outtime', 'los']\n",
      "\n",
      "📈 Dataset Overview:\n",
      "👥 Patients: 100 unique patients\n",
      "🏥 Admissions: 129 hospital admissions\n",
      "🏥 ICU Stays: 136 ICU admissions\n",
      "\n",
      "✅ Data loading completed successfully!\n"
     ]
    }
   ],
   "source": [
    "# 🔍 STEP 2.1: Define data path and load MIMIC-III tables\n",
    "# Note: Adjust this path based on your local setup\n",
    "data_path = '../../mimic-iii-clinical-database-demo-1.4/'\n",
    "\n",
    "# Load the three core tables we'll use for mortality prediction\n",
    "print(\"📥 Loading MIMIC-III data tables...\")\n",
    "\n",
    "# PATIENTS: Contains patient demographics and basic information\n",
    "patients = pd.read_csv(data_path + 'PATIENTS.csv')\n",
    "\n",
    "# ADMISSIONS: Contains hospital admission details and outcomes\n",
    "admissions = pd.read_csv(data_path + 'ADMISSIONS.csv')\n",
    "\n",
    "# ICUSTAYS: Contains ICU-specific information\n",
    "icustays = pd.read_csv(data_path + 'ICUSTAYS.csv')\n",
    "\n",
    "# 🔍 STEP 2.2: Explore data structure\n",
    "# Understanding column names is crucial - MIMIC-III uses lowercase naming\n",
    "print(\"\\n📋 Exploring data structure:\")\n",
    "print(\"Column names in admissions:\")\n",
    "print(list(admissions.columns))\n",
    "print(\"\\nColumn names in patients:\")\n",
    "print(list(patients.columns))\n",
    "print(\"\\nColumn names in icustays:\")\n",
    "print(list(icustays.columns))\n",
    "\n",
    "# 📊 STEP 2.3: Display basic dataset information\n",
    "print(f\"\\n📈 Dataset Overview:\")\n",
    "print(f\"👥 Patients: {len(patients):,} unique patients\")\n",
    "print(f\"🏥 Admissions: {len(admissions):,} hospital admissions\")\n",
    "print(f\"🏥 ICU Stays: {len(icustays):,} ICU admissions\")\n",
    "\n",
    "print(\"\\n✅ Data loading completed successfully!\")"
   ]
  },
  {
   "cell_type": "code",
   "execution_count": 17,
   "metadata": {},
   "outputs": [
    {
     "name": "stdout",
     "output_type": "stream",
     "text": [
      "Hospital mortality rate: 31.0%\n"
     ]
    },
    {
     "data": {
      "image/png": "[encoded data removed]",
      "text/plain": [
       "<Figure size 600x400 with 1 Axes>"
      ]
     },
     "metadata": {},
     "output_type": "display_data"
    }
   ],
   "source": [
    "# Check mortality rate with correct column name\n",
    "mortality_rate = admissions['hospital_expire_flag'].mean()\n",
    "print(f\"Hospital mortality rate: {mortality_rate:.1%}\")\n",
    "\n",
    "# Quick visualization\n",
    "plt.figure(figsize=(6, 4))\n",
    "admissions['hospital_expire_flag'].value_counts().plot(kind='bar')\n",
    "plt.title('Mortality Distribution')\n",
    "plt.xticks([0, 1], ['Survived', 'Died'], rotation=0)\n",
    "plt.show()"
   ]
  },
  {
   "cell_type": "code",
   "execution_count": 18,
   "metadata": {},
   "outputs": [
    {
     "name": "stdout",
     "output_type": "stream",
     "text": [
      "Created dataset with 129 rows and 7 columns\n",
      "Columns: ['hadm_id', 'subject_id', 'hospital_expire_flag', 'admission_type', 'insurance', 'gender', 'los']\n"
     ]
    }
   ],
   "source": [
    "# Create simple features\n",
    "def create_features():\n",
    "    # Start with admissions\n",
    "    features = admissions[['hadm_id', 'subject_id', 'hospital_expire_flag', 'admission_type', 'insurance']].copy()\n",
    "    \n",
    "    # Add patient info\n",
    "    patient_info = patients[['subject_id', 'gender']].copy()\n",
    "    features = features.merge(patient_info, on='subject_id')\n",
    "    \n",
    "    # Add ICU length of stay\n",
    "    icu_los = icustays.groupby('hadm_id')['los'].sum().reset_index()\n",
    "    features = features.merge(icu_los, on='hadm_id', how='left')\n",
    "    features['los'] = features['los'].fillna(0)\n",
    "    \n",
    "    return features\n",
    "\n",
    "df = create_features()\n",
    "print(f\"Created dataset with {len(df)} rows and {len(df.columns)} columns\")\n",
    "print(f\"Columns: {list(df.columns)}\")"
   ]
  },
  {
   "cell_type": "code",
   "execution_count": 19,
   "metadata": {},
   "outputs": [
    {
     "name": "stdout",
     "output_type": "stream",
     "text": [
      "Feature matrix shape: (129, 4)\n",
      "Target distribution: {0: 89, 1: 40}\n"
     ]
    }
   ],
   "source": [
    "# Simple preprocessing and modeling\n",
    "# Encode categorical variables\n",
    "le_gender = LabelEncoder()\n",
    "df['gender_encoded'] = le_gender.fit_transform(df['gender'])\n",
    "\n",
    "le_admission = LabelEncoder()\n",
    "df['admission_encoded'] = le_admission.fit_transform(df['admission_type'])\n",
    "\n",
    "le_insurance = LabelEncoder()\n",
    "df['insurance_encoded'] = le_insurance.fit_transform(df['insurance'])\n",
    "\n",
    "# Select features\n",
    "feature_cols = ['gender_encoded', 'admission_encoded', 'insurance_encoded', 'los']\n",
    "X = df[feature_cols]\n",
    "y = df['hospital_expire_flag']\n",
    "\n",
    "print(f\"Feature matrix shape: {X.shape}\")\n",
    "print(f\"Target distribution: {y.value_counts().to_dict()}\")"
   ]
  },
  {
   "cell_type": "code",
   "execution_count": 20,
   "metadata": {},
   "outputs": [
    {
     "name": "stdout",
     "output_type": "stream",
     "text": [
      "AUC Score: 0.618\n",
      "\n",
      "Classification Report:\n",
      "              precision    recall  f1-score   support\n",
      "\n",
      "           0       0.75      0.83      0.79        18\n",
      "           1       0.50      0.38      0.43         8\n",
      "\n",
      "    accuracy                           0.69        26\n",
      "   macro avg       0.62      0.60      0.61        26\n",
      "weighted avg       0.67      0.69      0.68        26\n",
      "\n"
     ]
    }
   ],
   "source": [
    "# Train model\n",
    "X_train, X_test, y_train, y_test = train_test_split(X, y, test_size=0.2, random_state=42, stratify=y)\n",
    "\n",
    "# Handle missing values\n",
    "imputer = SimpleImputer(strategy='median')\n",
    "X_train_imp = imputer.fit_transform(X_train)\n",
    "X_test_imp = imputer.transform(X_test)\n",
    "\n",
    "# Train Random Forest\n",
    "rf = RandomForestClassifier(n_estimators=100, random_state=42, class_weight='balanced')\n",
    "rf.fit(X_train_imp, y_train)\n",
    "\n",
    "# Predictions\n",
    "y_pred = rf.predict(X_test_imp)\n",
    "y_pred_proba = rf.predict_proba(X_test_imp)[:, 1]\n",
    "\n",
    "# Results\n",
    "auc = roc_auc_score(y_test, y_pred_proba)\n",
    "print(f\"AUC Score: {auc:.3f}\")\n",
    "print(\"\\nClassification Report:\")\n",
    "print(classification_report(y_test, y_pred))"
   ]
  },
  {
   "cell_type": "code",
   "execution_count": 21,
   "metadata": {},
   "outputs": [
    {
     "name": "stdout",
     "output_type": "stream",
     "text": [
      "Feature Importance:\n",
      "             feature  importance\n",
      "3                los    0.835323\n",
      "2  insurance_encoded    0.073540\n",
      "0     gender_encoded    0.047004\n",
      "1  admission_encoded    0.044134\n"
     ]
    },
    {
     "data": {
      "image/png": "[encoded data removed]",
      "text/plain": [
       "<Figure size 800x500 with 1 Axes>"
      ]
     },
     "metadata": {},
     "output_type": "display_data"
    }
   ],
   "source": [
    "# Feature importance\n",
    "importance_df = pd.DataFrame({\n",
    "    'feature': feature_cols,\n",
    "    'importance': rf.feature_importances_\n",
    "}).sort_values('importance', ascending=False)\n",
    "\n",
    "print(\"Feature Importance:\")\n",
    "print(importance_df)\n",
    "\n",
    "# Plot\n",
    "plt.figure(figsize=(8, 5))\n",
    "sns.barplot(data=importance_df, x='importance', y='feature')\n",
    "plt.title('Feature Importance for Mortality Prediction')\n",
    "plt.show()"
   ]
  }
 ],
 "metadata": {
  "kernelspec": {
   "display_name": "vscode_env",
   "language": "python",
   "name": "python3"
  },
  "language_info": {
   "codemirror_mode": {
    "name": "ipython",
    "version": 3
   },
   "file_extension": ".py",
   "mimetype": "text/x-python",
   "name": "python",
   "nbconvert_exporter": "python",
   "pygments_lexer": "ipython3",
   "version": "3.12.4"
  }
 },
 "nbformat": 4,
 "nbformat_minor": 4
}
